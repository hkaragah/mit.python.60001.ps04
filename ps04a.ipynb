{
 "cells": [
  {
   "cell_type": "markdown",
   "metadata": {},
   "source": [
    "# Problem Set 4\n",
    "\n",
    "## Part A: Permutations of a string\n",
    "A permutation is simply a name for a reordering. So the permutations of the string ‘abc’ are ‘abc’, ‘acb’, ‘bac’, ‘bca’, ‘cab’, and ‘cba’. Note that a sequence is a permutation of itself (the trivial permutation). For this part of the pset you’ll need to write a **recursive** function `get_permutations` that takes a string and returns a list of all its permutations. You will find this function helpful later in the pset for part C.<br>\n",
    "\n",
    "A couple of notes on the requirements: **Recursion MUST be used**, global variables may NOT be used. Additionally, it is okay to use loops to code the solution. The order of the returned permutations does not matter. Please also avoid returning duplicates in your final list.<br>\n",
    "\n",
    "**Suggested Approach**<br> \n",
    "In order to solve any recursive problem, we must have at least one base case and a recursive case (or cases). We can think of our base case as the simplest input we could have to this problem (for which determining the solution is trivial and requires no recursion) -- for this approach, our base case is if _sequence_ is a single character (there’s only one way to order a single character).<br>\n",
    "\n",
    "If _sequence_ is longer than one character, we need to identify a simpler version of the problem that, if solved, will help us easily find all permutations for sequence . The pseudocode below gives one approach to recursively solving this problem.<br>\n",
    "\n",
    "Given an input string sequence :<br>\n",
    "> - Base case: \n",
    "  - if _sequence_ is a single character, there’s only one way to order it\n",
    "    - return a singleton list containing _sequence_\n",
    "- Recursive case:\n",
    "  - suppose we have a method that can give us a list of all permutations of all but the first character in _sequence_ (Hint: think recursion)\n",
    "    - then the permutations of all characters in _sequence_ would be **all the different ways** we can insert the first character into each permutation of the remaining characters\n",
    "      - example: if our word was ‘bust’, we hold out the character ‘b’ and get the list [‘ust’, ‘sut’, ‘stu’, ‘uts’, ‘tus’, ‘tsu’] \n",
    "          - then ‘ust’ gives us: ‘**b**ust’, ‘u**b**st’, ‘us**b**t’, ‘ust**b**’\n",
    "          - ‘sut’ gives us: ‘**b**sut’, ‘s**b**ut’, ‘su**b**t’, ‘sut**b**’\n",
    "          - and so on …\n",
    "\n",
    "\n",
    "Implement the `get_permutations(sequence)` function found in `ps4a.py` according to the specifications in the docstring. Write three test cases for your function in comments under `if __name__ == ‘__main__’`. Each test case should display the input, expected output, and actual output. See the `if __name__ == ‘__main__’` for an example.<br>\n",
    "\n",
    "\n"
   ]
  },
  {
   "cell_type": "code",
   "execution_count": 70,
   "metadata": {
    "scrolled": true
   },
   "outputs": [
    {
     "name": "stdout",
     "output_type": "stream",
     "text": [
      "['abc', 'bca', 'bac', 'cab', 'acb', 'cba']\n",
      "---\n",
      "['hos', 'osh', 'ohs', 'sho', 'hso', 'soh']\n",
      "---\n",
      "['acc', 'cca', 'cac']\n"
     ]
    }
   ],
   "source": [
    "def get_permutations(sequence):\n",
    "    \"\"\"\n",
    "    Enumerate all permutations of a given string\n",
    "\n",
    "    sequence (string): an arbitrary string to permute. Assume that it is a\n",
    "    non-empty string.  \n",
    "\n",
    "    Returns: a list of all permutations of sequence\n",
    "\n",
    "    Example:\n",
    "    >>> get_permutations('abc')\n",
    "    ['abc', 'acb', 'bac', 'bca', 'cab', 'cba']\n",
    "    \"\"\"\n",
    "    \n",
    "    perm_list = []\n",
    "    \n",
    "    if len(sequence) == 1:\n",
    "        perm_list.append(sequence)\n",
    "    else:\n",
    "        first_letter = sequence[0]\n",
    "        sub_perm_list = get_permutations(sequence[1:])\n",
    "        for element in sub_perm_list:\n",
    "            for index in range(len(element)):\n",
    "                new_element_1 = element[:index]+first_letter+element[index:]\n",
    "                new_element_2 = element[index:]+first_letter+element[:index]\n",
    "                if not(new_element_1 in perm_list):\n",
    "                    perm_list.append(new_element_1)\n",
    "                if not(new_element_2 in perm_list):\n",
    "                    perm_list.append(new_element_2)\n",
    "    return perm_list\n",
    "\n",
    "\n",
    "if __name__ == '__main__':\n",
    "\n",
    "    sequence1 = 'abc'\n",
    "    print(get_permutations(sequence1))\n",
    "    print('---')\n",
    "    sequence2 = 'hos'\n",
    "    print(get_permutations(sequence2))\n",
    "    print('---')\n",
    "    sequence3 = 'acc'\n",
    "    print(get_permutations(sequence3))\n",
    "    "
   ]
  },
  {
   "cell_type": "code",
   "execution_count": null,
   "metadata": {},
   "outputs": [],
   "source": []
  }
 ],
 "metadata": {
  "kernelspec": {
   "display_name": "Python 3",
   "language": "python",
   "name": "python3"
  },
  "language_info": {
   "codemirror_mode": {
    "name": "ipython",
    "version": 3
   },
   "file_extension": ".py",
   "mimetype": "text/x-python",
   "name": "python",
   "nbconvert_exporter": "python",
   "pygments_lexer": "ipython3",
   "version": "3.7.4"
  }
 },
 "nbformat": 4,
 "nbformat_minor": 2
}
